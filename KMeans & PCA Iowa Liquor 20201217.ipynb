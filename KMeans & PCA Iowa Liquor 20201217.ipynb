{
 "cells": [
  {
   "cell_type": "code",
   "execution_count": 1,
   "metadata": {},
   "outputs": [],
   "source": [
    "import pandas as pd\n",
    "import numpy as np\n",
    "import matplotlib.pyplot as plt\n",
    "import warnings\n",
    "warnings.filterwarnings('ignore')\n",
    "pd.set_option('display.max_columns',95)\n",
    "pd.set_option('display.max_rows',None)\n",
    "import pickle\n",
    "import re\n",
    "import datetime\n",
    "import seaborn as sns\n",
    "from sklearn.cluster import KMeans"
   ]
  },
  {
   "cell_type": "code",
   "execution_count": 2,
   "metadata": {},
   "outputs": [],
   "source": [
    "# Opening the pickled file\n",
    "f = open('df6.pkl', 'rb')\n",
    "df6 = pickle.load(f)\n",
    "f.close()"
   ]
  },
  {
   "cell_type": "code",
   "execution_count": 3,
   "metadata": {},
   "outputs": [],
   "source": [
    "# Opening the pickled file\n",
    "f = open('df5.pkl', 'rb')\n",
    "df5 = pickle.load(f)\n",
    "f.close()"
   ]
  },
  {
   "cell_type": "code",
   "execution_count": 4,
   "metadata": {},
   "outputs": [
    {
     "data": {
      "text/html": [
       "<div>\n",
       "<style scoped>\n",
       "    .dataframe tbody tr th:only-of-type {\n",
       "        vertical-align: middle;\n",
       "    }\n",
       "\n",
       "    .dataframe tbody tr th {\n",
       "        vertical-align: top;\n",
       "    }\n",
       "\n",
       "    .dataframe thead th {\n",
       "        text-align: right;\n",
       "    }\n",
       "</style>\n",
       "<table border=\"1\" class=\"dataframe\">\n",
       "  <thead>\n",
       "    <tr style=\"text-align: right;\">\n",
       "      <th></th>\n",
       "      <th>date</th>\n",
       "      <th>store_number</th>\n",
       "      <th>sale_dollars</th>\n",
       "    </tr>\n",
       "  </thead>\n",
       "  <tbody>\n",
       "    <tr>\n",
       "      <th>0</th>\n",
       "      <td>2012-03-27</td>\n",
       "      <td>2534</td>\n",
       "      <td>94.02</td>\n",
       "    </tr>\n",
       "    <tr>\n",
       "      <th>1</th>\n",
       "      <td>2015-08-25</td>\n",
       "      <td>4924</td>\n",
       "      <td>33.00</td>\n",
       "    </tr>\n",
       "    <tr>\n",
       "      <th>2</th>\n",
       "      <td>2013-02-21</td>\n",
       "      <td>4652</td>\n",
       "      <td>40.48</td>\n",
       "    </tr>\n",
       "    <tr>\n",
       "      <th>3</th>\n",
       "      <td>2014-01-27</td>\n",
       "      <td>4794</td>\n",
       "      <td>8.99</td>\n",
       "    </tr>\n",
       "    <tr>\n",
       "      <th>4</th>\n",
       "      <td>2013-09-09</td>\n",
       "      <td>2647</td>\n",
       "      <td>80.94</td>\n",
       "    </tr>\n",
       "  </tbody>\n",
       "</table>\n",
       "</div>"
      ],
      "text/plain": [
       "        date  store_number  sale_dollars\n",
       "0 2012-03-27          2534         94.02\n",
       "1 2015-08-25          4924         33.00\n",
       "2 2013-02-21          4652         40.48\n",
       "3 2014-01-27          4794          8.99\n",
       "4 2013-09-09          2647         80.94"
      ]
     },
     "execution_count": 4,
     "metadata": {},
     "output_type": "execute_result"
    }
   ],
   "source": [
    "df6.head()"
   ]
  },
  {
   "cell_type": "code",
   "execution_count": 5,
   "metadata": {},
   "outputs": [
    {
     "name": "stdout",
     "output_type": "stream",
     "text": [
      "<class 'pandas.core.frame.DataFrame'>\n",
      "Int64Index: 20095649 entries, 0 to 20095648\n",
      "Data columns (total 3 columns):\n",
      " #   Column        Dtype         \n",
      "---  ------        -----         \n",
      " 0   date          datetime64[ns]\n",
      " 1   store_number  int64         \n",
      " 2   sale_dollars  float64       \n",
      "dtypes: datetime64[ns](1), float64(1), int64(1)\n",
      "memory usage: 613.3 MB\n"
     ]
    }
   ],
   "source": [
    "df6.info()"
   ]
  },
  {
   "cell_type": "code",
   "execution_count": 6,
   "metadata": {},
   "outputs": [],
   "source": [
    "df6['store_number'] = df6['store_number'].astype('category')"
   ]
  },
  {
   "cell_type": "code",
   "execution_count": 7,
   "metadata": {},
   "outputs": [
    {
     "name": "stdout",
     "output_type": "stream",
     "text": [
      "<class 'pandas.core.frame.DataFrame'>\n",
      "Int64Index: 20095649 entries, 0 to 20095648\n",
      "Data columns (total 3 columns):\n",
      " #   Column        Dtype         \n",
      "---  ------        -----         \n",
      " 0   date          datetime64[ns]\n",
      " 1   store_number  category      \n",
      " 2   sale_dollars  float64       \n",
      "dtypes: category(1), datetime64[ns](1), float64(1)\n",
      "memory usage: 498.4 MB\n"
     ]
    }
   ],
   "source": [
    "df6.info()"
   ]
  },
  {
   "cell_type": "code",
   "execution_count": 8,
   "metadata": {
    "scrolled": true
   },
   "outputs": [],
   "source": [
    "X=df6.groupby([pd.Grouper(key='date', freq='M'), 'store_number'])['sale_dollars'].sum()"
   ]
  },
  {
   "cell_type": "code",
   "execution_count": 9,
   "metadata": {},
   "outputs": [],
   "source": [
    "Y=X.reset_index().pivot(index='date', columns='store_number', values='sale_dollars')"
   ]
  },
  {
   "cell_type": "code",
   "execution_count": 10,
   "metadata": {},
   "outputs": [
    {
     "data": {
      "text/plain": [
       "CategoricalIndex([2106, 2113, 2130, 2132, 2152, 2161, 2178, 2190, 2191, 2200,\n",
       "                  ...\n",
       "                  9928, 9929, 9930, 9931, 9932, 9934, 9936, 9937, 9938, 9946],\n",
       "                 categories=[2106, 2113, 2130, 2132, 2152, 2161, 2178, 2190, ...], ordered=False, name='store_number', dtype='category', length=2506)"
      ]
     },
     "execution_count": 10,
     "metadata": {},
     "output_type": "execute_result"
    }
   ],
   "source": [
    "Y.columns"
   ]
  },
  {
   "cell_type": "code",
   "execution_count": 11,
   "metadata": {},
   "outputs": [
    {
     "data": {
      "text/plain": [
       "<matplotlib.axes._subplots.AxesSubplot at 0x164924f7820>"
      ]
     },
     "execution_count": 11,
     "metadata": {},
     "output_type": "execute_result"
    },
    {
     "data": {
      "image/png": "iVBORw0KGgoAAAANSUhEUgAAAYoAAAEGCAYAAAB7DNKzAAAABHNCSVQICAgIfAhkiAAAAAlwSFlzAAALEgAACxIB0t1+/AAAADh0RVh0U29mdHdhcmUAbWF0cGxvdGxpYiB2ZXJzaW9uMy4yLjIsIGh0dHA6Ly9tYXRwbG90bGliLm9yZy+WH4yJAAAgAElEQVR4nOy9eZgcV333+/31vs8+0mi0jDRavEi2bMk7GIODbQjBQFjMC7EhTgw88L5vQm5ISPJec+GSG5KX+F6SYHCwMTgEbAyOTYJjHIwXbHmRd8m2rNE+M5Jmn+m9azn3j6pTfaq6eu+ZHqHzeZ55NKruqqnp6T6/8/2txBiDRCKRSCTl8LT7BiQSiUSyvJGGQiKRSCQVkYZCIpFIJBWRhkIikUgkFZGGQiKRSCQV8bX7BlpNb28vGxoaavdtSCQSySnF888/P8UY63N77DfOUAwNDWH37t3tvg2JRCI5pSCiI+Uek64niUQikVREGgqJRCKRVKSqoSCiNUT0KyJ6nYj2EtH/NI93E9HDRLTf/LdLOOeLRDRCRPuI6Grh+A4ietV87BtERObxIBHdbR5/hoiGhHNuMH/GfiK6oZW/vEQikUiqU4uiUAH8CWPsTAAXA/gsEZ0F4M8B/JIxtgnAL83/w3zsOgBnA7gGwDeJyGte61YANwHYZH5dYx6/EcAsY2wjgFsAfM28VjeAmwFcBOBCADeLBkkikUgki09VQ8EYO84Ye8H8PgngdQCDAK4F8D3zad8D8D7z+2sB/IgxlmeMHQIwAuBCIhoAkGCM7WJGg6nvO87h17oXwJWm2rgawMOMsRnG2CyAh1E0LhKJRCJZAuqKUZguofMAPANgBWPsOGAYEwD95tMGARwTThs1jw2a3zuP285hjKkA5gH0VLiW875uIqLdRLR7cnKynl9JIpFIJFWo2VAQUQzATwD8EWNsodJTXY6xCscbPad4gLHbGGM7GWM7+/pc04AlEolE0iA1GQoi8sMwEj9gjP3UPHzSdCfB/HfCPD4KYI1w+moA4+bx1S7HbecQkQ9AB4CZCteSSJoip2j48e5jkG32JZLq1JL1RABuB/A6Y+zvhYceAMCzkG4AcL9w/Dozk2k9jKD1s6Z7KklEF5vXvN5xDr/WBwE8YsYxHgJwFRF1mUHsq8xjEklT/OqNCfzpva9g/0Sq3bcikSx7aqnMvgzA7wF4lYheMo/9BYC/AXAPEd0I4CiADwEAY2wvEd0D4DUYGVOfZYxp5nmfAXAngDCAB80vwDBEdxHRCAwlcZ15rRki+gqA58znfZkxNtPg7yqRWGQKmu1fiURSnqqGgjH2a7jHCgDgyjLnfBXAV12O7waw1eV4DqahcXnsDgB3VLtPiaQe8qoOwHBBSSSSysjKbMlpSV7VzH/1Nt+JRLL8kYZCcloiFYVEUjvSUEhOS7iBkIpCIqmONBSS0xKpKCSS2pGGQnJaklcMQyEVhURSHWkoJKclVjBbKgqJpCrSUEhOS7iSkIpCIqmONBSS0xLLUEhFIZFURRoKyWkJNxA5qSgkkqpIQyE5LclJRSGR1Iw0FJLTkryso5BIakYaCslpiayjkEhqRxoKyWmJzHqSSGpHGgrJaQmvo5CKQiKpjjQUTfK3//kGfvayHLp3qiErsyWS2pGGokl++sIYHnljovoTJcsKGaOQSGpHGoomUTQdBU3uSk81ZNaTRFI70lA0iaLpUORic8ohg9kSSe1UNRREdAcRTRDRHuHY3UT0kvl1mM/SJqIhIsoKj31LOGcHEb1KRCNE9A0iIvN40LzeCBE9Q0RDwjk3ENF+8+uGVv7irULRGBSpKE4pdJ1ZKlC6niSS6lSdmQ3gTgD/COD7/ABj7CP8eyL6O